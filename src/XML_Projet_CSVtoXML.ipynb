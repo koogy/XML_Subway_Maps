{
  "nbformat": 4,
  "nbformat_minor": 0,
  "metadata": {
    "colab": {
      "name": "XML_Projet_CSVtoXML.ipynb",
      "provenance": [],
      "collapsed_sections": [],
      "machine_shape": "hm"
    },
    "kernelspec": {
      "name": "python3",
      "display_name": "Python 3"
    },
    "language_info": {
      "name": "python"
    }
  },
  "cells": [
    {
      "cell_type": "code",
      "source": [
        "import pandas as pd\n",
        "import xml.etree.ElementTree as et\n",
        "import xml.dom.minidom as md"
      ],
      "metadata": {
        "id": "qOGmAtiuuVSF"
      },
      "execution_count": 16,
      "outputs": []
    },
    {
      "cell_type": "code",
      "execution_count": 2,
      "metadata": {
        "id": "LiUS-amotqCf"
      },
      "outputs": [],
      "source": [
        "# Récuperation du fichier dans Google Colab\n",
        "filename = './drive/MyDrive/base_ratp.csv'\n",
        "\n",
        "# Lecture du fichier CSV\n",
        "df = pd.read_csv(filename, delimiter=';') "
      ]
    },
    {
      "cell_type": "code",
      "source": [
        "# Tri du dataset\n",
        "df = df.sort_values(by=['service_id', 'direction_id', 'route_id', 'stop_sequence'])"
      ],
      "metadata": {
        "id": "SDvOfb1VldID"
      },
      "execution_count": 4,
      "outputs": []
    },
    {
      "cell_type": "code",
      "source": [
        "# Construction de la liste des lignes de métro\n",
        "line_list = list(df['service_short_name'].unique())\n",
        "print(line_list)"
      ],
      "metadata": {
        "colab": {
          "base_uri": "https://localhost:8080/"
        },
        "id": "tGluBT2fkohe",
        "outputId": "91a4c0c8-4ef7-43cc-ab29-79e1d3e9a3e9"
      },
      "execution_count": 5,
      "outputs": [
        {
          "output_type": "stream",
          "name": "stdout",
          "text": [
            "['2', '1', '3', '3B', '4', '5', '6', '7', '7B', '8', '9', '10', '11', '12', '13', '14']\n"
          ]
        }
      ]
    },
    {
      "cell_type": "code",
      "source": [
        "# Construction d'un dictionnaire où les clés sont les noms des lignes et les valeurs les dataframes corespondants\n",
        "df_by_line = {}\n",
        "\n",
        "for line in line_list:\n",
        "    df_by_line[line] = df[df.service_short_name == line]"
      ],
      "metadata": {
        "id": "TbyxMoMz7P2N"
      },
      "execution_count": 6,
      "outputs": []
    },
    {
      "cell_type": "code",
      "source": [
        "# Retourne le nombre de station sur la ligne\n",
        "def nb_stations(dataframe):\n",
        "    return len(dataframe['station_id'].unique())"
      ],
      "metadata": {
        "id": "EizeeQc2mmD_"
      },
      "execution_count": 7,
      "outputs": []
    },
    {
      "cell_type": "code",
      "source": [
        "# Retourne vrai si la ligne n'a pas de bifurcation\n",
        "def is_station_straight(dataframe):\n",
        "    return len(dataframe) == len(dataframe['route_id'].unique()) * len(dataframe['station_id'].unique())"
      ],
      "metadata": {
        "id": "Ggc73wBUKYH9"
      },
      "execution_count": 8,
      "outputs": []
    },
    {
      "cell_type": "code",
      "source": [
        "# Retourne le XML correspondant à une ligne à partir du dataframe de la ligne\n",
        "def get_stations(dataframe):\n",
        "    line_name = dataframe.iloc[0].service_short_name\n",
        "    df_line = dataframe.drop_duplicates(subset='station_id')\n",
        "\n",
        "    # Cas où la ligne n'a pas de bifurcation\n",
        "    if is_station_straight(dataframe):\n",
        "        line = []\n",
        "        for station in df_line.iterrows():\n",
        "            change = list(set(df[df.station_id == station[1]['station_id']].service_short_name))\n",
        "            change.remove(line_name)\n",
        "            line.append((station[1]['station_name'], change))\n",
        "        return line\n",
        "    \n",
        "    # Cas où la ligne a une bifurcation\n",
        "    else:\n",
        "        nb_routes = len(dataframe.drop_duplicates(subset='route_id'))\n",
        "        # Cas où la ligne a une bifurcation interne (2 terminus)\n",
        "        if nb_routes == 2:\n",
        "            \n",
        "            first_list = []\n",
        "            bottom_bifur = []\n",
        "            top_bifur = []\n",
        "            last_list = []\n",
        "            \n",
        "            first_done = False\n",
        "            bottom_done = False\n",
        "            \n",
        "            for station in df_line.iterrows():\n",
        "                change = list(set(df[df.station_id == station[1]['station_id']].service_short_name))\n",
        "                change.remove(line_name)\n",
        "\n",
        "                if len(dataframe[dataframe.station_id == station[1]['station_id']]) == 2:\n",
        "                    if first_done:\n",
        "                        bottom_done = True\n",
        "                        last_list.append((station[1]['station_name'], change))\n",
        "                    else :\n",
        "                        first_list.append((station[1]['station_name'], change))\n",
        "                \n",
        "                else:\n",
        "                    first_done = True\n",
        "                    if bottom_done:\n",
        "                        top_bifur.append((station[1]['station_name'], change))\n",
        "                    else:\n",
        "                        bottom_bifur.append((station[1]['station_name'], change))\n",
        "\n",
        "            return (first_list, bottom_bifur, list(reversed(top_bifur)), last_list)\n",
        "           \n",
        "    \n",
        "        # Cas où la ligne a une bifurcation qui ne se rejoint pas (3 terminus)\n",
        "        if (nb_routes == 4):\n",
        "            main_route = dataframe.iloc[0]['route_id']\n",
        "\n",
        "            main_list = []\n",
        "            bottom_bifur = []\n",
        "            top_bifur = []\n",
        "\n",
        "            for station in df_line.iterrows():\n",
        "                change = list(set(df[df.station_id == station[1]['station_id']].service_short_name))\n",
        "                change.remove(line_name)\n",
        "\n",
        "                if len(dataframe[dataframe.station_id == station[1]['station_id']]) == 4:\n",
        "                    main_list.append((station[1]['station_name'], change))\n",
        "                else:\n",
        "                    if station[1]['route_id'] == main_route:\n",
        "                        bottom_bifur.append((station[1]['station_name'], change))\n",
        "                    else:\n",
        "                        top_bifur.append((station[1]['station_name'], change))\n",
        "\n",
        "            return (main_list, bottom_bifur, top_bifur)\n",
        "\n"
      ],
      "metadata": {
        "id": "h3oJn45kYmS2"
      },
      "execution_count": 9,
      "outputs": []
    }
  ]
}