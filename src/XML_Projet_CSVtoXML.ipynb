{
  "nbformat": 4,
  "nbformat_minor": 0,
  "metadata": {
    "colab": {
      "name": "XML_Projet_CSVtoXML.ipynb",
      "provenance": [],
      "collapsed_sections": []
    },
    "kernelspec": {
      "name": "python3",
      "display_name": "Python 3"
    },
    "language_info": {
      "name": "python"
    }
  },
  "cells": [
    {
      "cell_type": "code",
      "source": [
        "import pandas as pd\n",
        "from tabulate import tabulate"
      ],
      "metadata": {
        "id": "qOGmAtiuuVSF"
      },
      "execution_count": 1,
      "outputs": []
    },
    {
      "cell_type": "code",
      "execution_count": 2,
      "metadata": {
        "id": "LiUS-amotqCf"
      },
      "outputs": [],
      "source": [
        "# Récuperation du fichier dans Google Colab\n",
        "filename = './drive/MyDrive/base_ratp.csv'\n",
        "\n",
        "# Lecture du fichier CVS\n",
        "df_raw = pd.read_csv(filename, delimiter=';') "
      ]
    },
    {
      "cell_type": "code",
      "source": [
        "df_raw.dtypes"
      ],
      "metadata": {
        "colab": {
          "base_uri": "https://localhost:8080/"
        },
        "id": "fcgJAU8zu9m4",
        "outputId": "dc76116a-e96d-42a7-9192-fb8d6b05ee23"
      },
      "execution_count": 3,
      "outputs": [
        {
          "output_type": "execute_result",
          "data": {
            "text/plain": [
              "station_id              int64\n",
              "station_name           object\n",
              "station_desc           object\n",
              "station_lat           float64\n",
              "station_lon           float64\n",
              "stop_sequence           int64\n",
              "route_id                int64\n",
              "service_id              int64\n",
              "direction_id            int64\n",
              "service_short_name     object\n",
              "long_name_first        object\n",
              "long_name_last         object\n",
              "dtype: object"
            ]
          },
          "metadata": {},
          "execution_count": 3
        }
      ]
    },
    {
      "cell_type": "code",
      "source": [
        "df_raw.describe()"
      ],
      "metadata": {
        "colab": {
          "base_uri": "https://localhost:8080/",
          "height": 300
        },
        "id": "sBRrHQauxOJ9",
        "outputId": "d99c6b0f-c1f5-4de4-d821-0b982e15a41b"
      },
      "execution_count": 4,
      "outputs": [
        {
          "output_type": "execute_result",
          "data": {
            "text/plain": [
              "        station_id  station_lat  station_lon  stop_sequence      route_id  \\\n",
              "count   852.000000   852.000000   852.000000     852.000000  8.520000e+02   \n",
              "mean   2610.938967    48.860802     2.344647      14.276995  1.333310e+06   \n",
              "std     340.505080     0.024882     0.041470       9.042180  1.955140e+05   \n",
              "min    2004.000000    48.768769     2.228314       1.000000  6.561030e+05   \n",
              "25%    2320.000000    48.844652     2.317565       7.000000  1.197630e+06   \n",
              "50%    2616.000000    48.862667     2.346851      13.000000  1.197659e+06   \n",
              "75%    2900.000000    48.876729     2.369946      21.000000  1.495357e+06   \n",
              "max    3208.000000    48.946111     2.464319      38.000000  1.577988e+06   \n",
              "\n",
              "         service_id  direction_id  \n",
              "count  8.520000e+02    852.000000  \n",
              "mean   2.237161e+06      0.500000  \n",
              "std    1.730149e+05      0.500294  \n",
              "min    1.544644e+06      0.000000  \n",
              "25%    2.280297e+06      0.000000  \n",
              "50%    2.280325e+06      0.500000  \n",
              "75%    2.280372e+06      1.000000  \n",
              "max    2.280413e+06      1.000000  "
            ],
            "text/html": [
              "\n",
              "  <div id=\"df-6b8da0f2-e545-43d1-a23a-f083ee8035db\">\n",
              "    <div class=\"colab-df-container\">\n",
              "      <div>\n",
              "<style scoped>\n",
              "    .dataframe tbody tr th:only-of-type {\n",
              "        vertical-align: middle;\n",
              "    }\n",
              "\n",
              "    .dataframe tbody tr th {\n",
              "        vertical-align: top;\n",
              "    }\n",
              "\n",
              "    .dataframe thead th {\n",
              "        text-align: right;\n",
              "    }\n",
              "</style>\n",
              "<table border=\"1\" class=\"dataframe\">\n",
              "  <thead>\n",
              "    <tr style=\"text-align: right;\">\n",
              "      <th></th>\n",
              "      <th>station_id</th>\n",
              "      <th>station_lat</th>\n",
              "      <th>station_lon</th>\n",
              "      <th>stop_sequence</th>\n",
              "      <th>route_id</th>\n",
              "      <th>service_id</th>\n",
              "      <th>direction_id</th>\n",
              "    </tr>\n",
              "  </thead>\n",
              "  <tbody>\n",
              "    <tr>\n",
              "      <th>count</th>\n",
              "      <td>852.000000</td>\n",
              "      <td>852.000000</td>\n",
              "      <td>852.000000</td>\n",
              "      <td>852.000000</td>\n",
              "      <td>8.520000e+02</td>\n",
              "      <td>8.520000e+02</td>\n",
              "      <td>852.000000</td>\n",
              "    </tr>\n",
              "    <tr>\n",
              "      <th>mean</th>\n",
              "      <td>2610.938967</td>\n",
              "      <td>48.860802</td>\n",
              "      <td>2.344647</td>\n",
              "      <td>14.276995</td>\n",
              "      <td>1.333310e+06</td>\n",
              "      <td>2.237161e+06</td>\n",
              "      <td>0.500000</td>\n",
              "    </tr>\n",
              "    <tr>\n",
              "      <th>std</th>\n",
              "      <td>340.505080</td>\n",
              "      <td>0.024882</td>\n",
              "      <td>0.041470</td>\n",
              "      <td>9.042180</td>\n",
              "      <td>1.955140e+05</td>\n",
              "      <td>1.730149e+05</td>\n",
              "      <td>0.500294</td>\n",
              "    </tr>\n",
              "    <tr>\n",
              "      <th>min</th>\n",
              "      <td>2004.000000</td>\n",
              "      <td>48.768769</td>\n",
              "      <td>2.228314</td>\n",
              "      <td>1.000000</td>\n",
              "      <td>6.561030e+05</td>\n",
              "      <td>1.544644e+06</td>\n",
              "      <td>0.000000</td>\n",
              "    </tr>\n",
              "    <tr>\n",
              "      <th>25%</th>\n",
              "      <td>2320.000000</td>\n",
              "      <td>48.844652</td>\n",
              "      <td>2.317565</td>\n",
              "      <td>7.000000</td>\n",
              "      <td>1.197630e+06</td>\n",
              "      <td>2.280297e+06</td>\n",
              "      <td>0.000000</td>\n",
              "    </tr>\n",
              "    <tr>\n",
              "      <th>50%</th>\n",
              "      <td>2616.000000</td>\n",
              "      <td>48.862667</td>\n",
              "      <td>2.346851</td>\n",
              "      <td>13.000000</td>\n",
              "      <td>1.197659e+06</td>\n",
              "      <td>2.280325e+06</td>\n",
              "      <td>0.500000</td>\n",
              "    </tr>\n",
              "    <tr>\n",
              "      <th>75%</th>\n",
              "      <td>2900.000000</td>\n",
              "      <td>48.876729</td>\n",
              "      <td>2.369946</td>\n",
              "      <td>21.000000</td>\n",
              "      <td>1.495357e+06</td>\n",
              "      <td>2.280372e+06</td>\n",
              "      <td>1.000000</td>\n",
              "    </tr>\n",
              "    <tr>\n",
              "      <th>max</th>\n",
              "      <td>3208.000000</td>\n",
              "      <td>48.946111</td>\n",
              "      <td>2.464319</td>\n",
              "      <td>38.000000</td>\n",
              "      <td>1.577988e+06</td>\n",
              "      <td>2.280413e+06</td>\n",
              "      <td>1.000000</td>\n",
              "    </tr>\n",
              "  </tbody>\n",
              "</table>\n",
              "</div>\n",
              "      <button class=\"colab-df-convert\" onclick=\"convertToInteractive('df-6b8da0f2-e545-43d1-a23a-f083ee8035db')\"\n",
              "              title=\"Convert this dataframe to an interactive table.\"\n",
              "              style=\"display:none;\">\n",
              "        \n",
              "  <svg xmlns=\"http://www.w3.org/2000/svg\" height=\"24px\"viewBox=\"0 0 24 24\"\n",
              "       width=\"24px\">\n",
              "    <path d=\"M0 0h24v24H0V0z\" fill=\"none\"/>\n",
              "    <path d=\"M18.56 5.44l.94 2.06.94-2.06 2.06-.94-2.06-.94-.94-2.06-.94 2.06-2.06.94zm-11 1L8.5 8.5l.94-2.06 2.06-.94-2.06-.94L8.5 2.5l-.94 2.06-2.06.94zm10 10l.94 2.06.94-2.06 2.06-.94-2.06-.94-.94-2.06-.94 2.06-2.06.94z\"/><path d=\"M17.41 7.96l-1.37-1.37c-.4-.4-.92-.59-1.43-.59-.52 0-1.04.2-1.43.59L10.3 9.45l-7.72 7.72c-.78.78-.78 2.05 0 2.83L4 21.41c.39.39.9.59 1.41.59.51 0 1.02-.2 1.41-.59l7.78-7.78 2.81-2.81c.8-.78.8-2.07 0-2.86zM5.41 20L4 18.59l7.72-7.72 1.47 1.35L5.41 20z\"/>\n",
              "  </svg>\n",
              "      </button>\n",
              "      \n",
              "  <style>\n",
              "    .colab-df-container {\n",
              "      display:flex;\n",
              "      flex-wrap:wrap;\n",
              "      gap: 12px;\n",
              "    }\n",
              "\n",
              "    .colab-df-convert {\n",
              "      background-color: #E8F0FE;\n",
              "      border: none;\n",
              "      border-radius: 50%;\n",
              "      cursor: pointer;\n",
              "      display: none;\n",
              "      fill: #1967D2;\n",
              "      height: 32px;\n",
              "      padding: 0 0 0 0;\n",
              "      width: 32px;\n",
              "    }\n",
              "\n",
              "    .colab-df-convert:hover {\n",
              "      background-color: #E2EBFA;\n",
              "      box-shadow: 0px 1px 2px rgba(60, 64, 67, 0.3), 0px 1px 3px 1px rgba(60, 64, 67, 0.15);\n",
              "      fill: #174EA6;\n",
              "    }\n",
              "\n",
              "    [theme=dark] .colab-df-convert {\n",
              "      background-color: #3B4455;\n",
              "      fill: #D2E3FC;\n",
              "    }\n",
              "\n",
              "    [theme=dark] .colab-df-convert:hover {\n",
              "      background-color: #434B5C;\n",
              "      box-shadow: 0px 1px 3px 1px rgba(0, 0, 0, 0.15);\n",
              "      filter: drop-shadow(0px 1px 2px rgba(0, 0, 0, 0.3));\n",
              "      fill: #FFFFFF;\n",
              "    }\n",
              "  </style>\n",
              "\n",
              "      <script>\n",
              "        const buttonEl =\n",
              "          document.querySelector('#df-6b8da0f2-e545-43d1-a23a-f083ee8035db button.colab-df-convert');\n",
              "        buttonEl.style.display =\n",
              "          google.colab.kernel.accessAllowed ? 'block' : 'none';\n",
              "\n",
              "        async function convertToInteractive(key) {\n",
              "          const element = document.querySelector('#df-6b8da0f2-e545-43d1-a23a-f083ee8035db');\n",
              "          const dataTable =\n",
              "            await google.colab.kernel.invokeFunction('convertToInteractive',\n",
              "                                                     [key], {});\n",
              "          if (!dataTable) return;\n",
              "\n",
              "          const docLinkHtml = 'Like what you see? Visit the ' +\n",
              "            '<a target=\"_blank\" href=https://colab.research.google.com/notebooks/data_table.ipynb>data table notebook</a>'\n",
              "            + ' to learn more about interactive tables.';\n",
              "          element.innerHTML = '';\n",
              "          dataTable['output_type'] = 'display_data';\n",
              "          await google.colab.output.renderOutput(dataTable, element);\n",
              "          const docLink = document.createElement('div');\n",
              "          docLink.innerHTML = docLinkHtml;\n",
              "          element.appendChild(docLink);\n",
              "        }\n",
              "      </script>\n",
              "    </div>\n",
              "  </div>\n",
              "  "
            ]
          },
          "metadata": {},
          "execution_count": 4
        }
      ]
    },
    {
      "cell_type": "code",
      "source": [
        "df_line_id = df_raw[['service_short_name', 'service_id']].drop_duplicates()\n",
        "df_line_id.reset_index(drop=True, inplace=True)\n",
        "\n",
        "print('Table de corespondance du service_short_name vers service_id :')\n",
        "print(tabulate(df_line_id, headers='keys', tablefmt='psql'))"
      ],
      "metadata": {
        "colab": {
          "base_uri": "https://localhost:8080/"
        },
        "id": "TbyxMoMz7P2N",
        "outputId": "53439fbf-9f66-4630-d6b7-2b18dbc25c34"
      },
      "execution_count": 6,
      "outputs": [
        {
          "output_type": "stream",
          "name": "stdout",
          "text": [
            "Table de corespondance du service_short_name vers service_id :\n",
            "+----+----------------------+--------------+\n",
            "|    | service_short_name   |   service_id |\n",
            "|----+----------------------+--------------|\n",
            "|  0 | 1                    |      2280236 |\n",
            "|  1 | 2                    |      1544644 |\n",
            "|  2 | 3                    |      2280265 |\n",
            "|  3 | 4                    |      2280284 |\n",
            "|  4 | 5                    |      2280297 |\n",
            "|  5 | 6                    |      2280310 |\n",
            "|  6 | 7                    |      2280325 |\n",
            "|  7 | 8                    |      2280344 |\n",
            "|  8 | 9                    |      2280360 |\n",
            "|  9 | 10                   |      2280372 |\n",
            "| 10 | 11                   |      2280382 |\n",
            "| 11 | 12                   |      2280396 |\n",
            "| 12 | 13                   |      2280400 |\n",
            "| 13 | 14                   |      2280413 |\n",
            "| 14 | 3B                   |      2280278 |\n",
            "| 15 | 7B                   |      2280337 |\n",
            "+----+----------------------+--------------+\n"
          ]
        }
      ]
    }
  ]
}