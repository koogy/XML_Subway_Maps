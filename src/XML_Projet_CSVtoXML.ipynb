{
  "nbformat": 4,
  "nbformat_minor": 0,
  "metadata": {
    "colab": {
      "name": "XML_Projet_CSVtoXML.ipynb",
      "provenance": [],
      "collapsed_sections": [],
      "machine_shape": "hm"
    },
    "kernelspec": {
      "name": "python3",
      "display_name": "Python 3"
    },
    "language_info": {
      "name": "python"
    }
  },
  "cells": [
    {
      "cell_type": "code",
      "source": [
        "import pandas as pd"
      ],
      "metadata": {
        "id": "qOGmAtiuuVSF"
      },
      "execution_count": 1,
      "outputs": []
    },
    {
      "cell_type": "code",
      "execution_count": 2,
      "metadata": {
        "id": "LiUS-amotqCf"
      },
      "outputs": [],
      "source": [
        "# Récuperation du fichier dans Google Colab\n",
        "filename = './drive/MyDrive/base_ratp.csv'\n",
        "\n",
        "# Lecture du fichier CSV\n",
        "df_raw = pd.read_csv(filename, delimiter=';') "
      ]
    },
    {
      "cell_type": "code",
      "source": [
        "df_raw.dtypes"
      ],
      "metadata": {
        "colab": {
          "base_uri": "https://localhost:8080/"
        },
        "id": "fcgJAU8zu9m4",
        "outputId": "304b3001-2fe7-46b6-904c-ac7928116686"
      },
      "execution_count": 3,
      "outputs": [
        {
          "output_type": "execute_result",
          "data": {
            "text/plain": [
              "station_id              int64\n",
              "station_name           object\n",
              "station_desc           object\n",
              "station_lat           float64\n",
              "station_lon           float64\n",
              "stop_sequence           int64\n",
              "route_id                int64\n",
              "service_id              int64\n",
              "direction_id            int64\n",
              "service_short_name     object\n",
              "long_name_first        object\n",
              "long_name_last         object\n",
              "dtype: object"
            ]
          },
          "metadata": {},
          "execution_count": 3
        }
      ]
    },
    {
      "cell_type": "code",
      "source": [
        "df_raw[df_raw['service_short_name'] == '7B'].head(10)"
      ],
      "metadata": {
        "colab": {
          "base_uri": "https://localhost:8080/",
          "height": 363
        },
        "id": "yXTSkf97lgkM",
        "outputId": "12dcfb96-41b3-401f-e260-f0e377633f3f"
      },
      "execution_count": 4,
      "outputs": [
        {
          "output_type": "execute_result",
          "data": {
            "text/plain": [
              "     station_id       station_name                              station_desc  \\\n",
              "838        2940  Pré-Saint-Gervais            Serrurier 52 boulevard - 75119   \n",
              "839        2312             Danube         Rhin et Danube 9 place de - 75119   \n",
              "840        2124           Botzaris                   80 rue Botzaris - 75119   \n",
              "841        2152    Buttes-Chaumont                   Botzaris 28 rue - 75119   \n",
              "842        2116            Bolivar          Simon Bolivar 125 avenue - 75119   \n",
              "843        2484             Jaurès     Face au 2 place de Stalingrad - 75119   \n",
              "844        2580        Louis Blanc  234 rue du Faubourg Saint-Martin - 75110   \n",
              "845        2580        Louis Blanc  234 rue du Faubourg Saint-Martin - 75110   \n",
              "846        2484             Jaurès     Face au 2 place de Stalingrad - 75119   \n",
              "847        2116            Bolivar          Simon Bolivar 125 avenue - 75119   \n",
              "\n",
              "     station_lat  station_lon  stop_sequence  route_id  service_id  \\\n",
              "838    48.880160     2.398587              1    656103     2280337   \n",
              "839    48.881951     2.393261              2    656103     2280337   \n",
              "840    48.879607     2.389416              3    656103     2280337   \n",
              "841    48.877804     2.381211              4    656103     2280337   \n",
              "842    48.880790     2.374155              5    656103     2280337   \n",
              "843    48.882769     2.369946              6    656103     2280337   \n",
              "844    48.880900     2.365107              7    656103     2280337   \n",
              "845    48.880900     2.365107              1    656104     2280337   \n",
              "846    48.882769     2.369946              2    656104     2280337   \n",
              "847    48.880790     2.374155              3    656104     2280337   \n",
              "\n",
              "     direction_id service_short_name    long_name_first long_name_last  \n",
              "838             0                 7B  PRE-SAINT-GERVAIS    LOUIS BLANC  \n",
              "839             0                 7B  PRE-SAINT-GERVAIS    LOUIS BLANC  \n",
              "840             0                 7B  PRE-SAINT-GERVAIS    LOUIS BLANC  \n",
              "841             0                 7B  PRE-SAINT-GERVAIS    LOUIS BLANC  \n",
              "842             0                 7B  PRE-SAINT-GERVAIS    LOUIS BLANC  \n",
              "843             0                 7B  PRE-SAINT-GERVAIS    LOUIS BLANC  \n",
              "844             0                 7B  PRE-SAINT-GERVAIS    LOUIS BLANC  \n",
              "845             1                 7B  PRE-SAINT-GERVAIS    LOUIS BLANC  \n",
              "846             1                 7B  PRE-SAINT-GERVAIS    LOUIS BLANC  \n",
              "847             1                 7B  PRE-SAINT-GERVAIS    LOUIS BLANC  "
            ],
            "text/html": [
              "\n",
              "  <div id=\"df-d84c2094-f2d4-4b2f-a422-93be301616c3\">\n",
              "    <div class=\"colab-df-container\">\n",
              "      <div>\n",
              "<style scoped>\n",
              "    .dataframe tbody tr th:only-of-type {\n",
              "        vertical-align: middle;\n",
              "    }\n",
              "\n",
              "    .dataframe tbody tr th {\n",
              "        vertical-align: top;\n",
              "    }\n",
              "\n",
              "    .dataframe thead th {\n",
              "        text-align: right;\n",
              "    }\n",
              "</style>\n",
              "<table border=\"1\" class=\"dataframe\">\n",
              "  <thead>\n",
              "    <tr style=\"text-align: right;\">\n",
              "      <th></th>\n",
              "      <th>station_id</th>\n",
              "      <th>station_name</th>\n",
              "      <th>station_desc</th>\n",
              "      <th>station_lat</th>\n",
              "      <th>station_lon</th>\n",
              "      <th>stop_sequence</th>\n",
              "      <th>route_id</th>\n",
              "      <th>service_id</th>\n",
              "      <th>direction_id</th>\n",
              "      <th>service_short_name</th>\n",
              "      <th>long_name_first</th>\n",
              "      <th>long_name_last</th>\n",
              "    </tr>\n",
              "  </thead>\n",
              "  <tbody>\n",
              "    <tr>\n",
              "      <th>838</th>\n",
              "      <td>2940</td>\n",
              "      <td>Pré-Saint-Gervais</td>\n",
              "      <td>Serrurier 52 boulevard - 75119</td>\n",
              "      <td>48.880160</td>\n",
              "      <td>2.398587</td>\n",
              "      <td>1</td>\n",
              "      <td>656103</td>\n",
              "      <td>2280337</td>\n",
              "      <td>0</td>\n",
              "      <td>7B</td>\n",
              "      <td>PRE-SAINT-GERVAIS</td>\n",
              "      <td>LOUIS BLANC</td>\n",
              "    </tr>\n",
              "    <tr>\n",
              "      <th>839</th>\n",
              "      <td>2312</td>\n",
              "      <td>Danube</td>\n",
              "      <td>Rhin et Danube 9 place de - 75119</td>\n",
              "      <td>48.881951</td>\n",
              "      <td>2.393261</td>\n",
              "      <td>2</td>\n",
              "      <td>656103</td>\n",
              "      <td>2280337</td>\n",
              "      <td>0</td>\n",
              "      <td>7B</td>\n",
              "      <td>PRE-SAINT-GERVAIS</td>\n",
              "      <td>LOUIS BLANC</td>\n",
              "    </tr>\n",
              "    <tr>\n",
              "      <th>840</th>\n",
              "      <td>2124</td>\n",
              "      <td>Botzaris</td>\n",
              "      <td>80 rue Botzaris - 75119</td>\n",
              "      <td>48.879607</td>\n",
              "      <td>2.389416</td>\n",
              "      <td>3</td>\n",
              "      <td>656103</td>\n",
              "      <td>2280337</td>\n",
              "      <td>0</td>\n",
              "      <td>7B</td>\n",
              "      <td>PRE-SAINT-GERVAIS</td>\n",
              "      <td>LOUIS BLANC</td>\n",
              "    </tr>\n",
              "    <tr>\n",
              "      <th>841</th>\n",
              "      <td>2152</td>\n",
              "      <td>Buttes-Chaumont</td>\n",
              "      <td>Botzaris 28 rue - 75119</td>\n",
              "      <td>48.877804</td>\n",
              "      <td>2.381211</td>\n",
              "      <td>4</td>\n",
              "      <td>656103</td>\n",
              "      <td>2280337</td>\n",
              "      <td>0</td>\n",
              "      <td>7B</td>\n",
              "      <td>PRE-SAINT-GERVAIS</td>\n",
              "      <td>LOUIS BLANC</td>\n",
              "    </tr>\n",
              "    <tr>\n",
              "      <th>842</th>\n",
              "      <td>2116</td>\n",
              "      <td>Bolivar</td>\n",
              "      <td>Simon Bolivar 125 avenue - 75119</td>\n",
              "      <td>48.880790</td>\n",
              "      <td>2.374155</td>\n",
              "      <td>5</td>\n",
              "      <td>656103</td>\n",
              "      <td>2280337</td>\n",
              "      <td>0</td>\n",
              "      <td>7B</td>\n",
              "      <td>PRE-SAINT-GERVAIS</td>\n",
              "      <td>LOUIS BLANC</td>\n",
              "    </tr>\n",
              "    <tr>\n",
              "      <th>843</th>\n",
              "      <td>2484</td>\n",
              "      <td>Jaurès</td>\n",
              "      <td>Face au 2 place de Stalingrad - 75119</td>\n",
              "      <td>48.882769</td>\n",
              "      <td>2.369946</td>\n",
              "      <td>6</td>\n",
              "      <td>656103</td>\n",
              "      <td>2280337</td>\n",
              "      <td>0</td>\n",
              "      <td>7B</td>\n",
              "      <td>PRE-SAINT-GERVAIS</td>\n",
              "      <td>LOUIS BLANC</td>\n",
              "    </tr>\n",
              "    <tr>\n",
              "      <th>844</th>\n",
              "      <td>2580</td>\n",
              "      <td>Louis Blanc</td>\n",
              "      <td>234 rue du Faubourg Saint-Martin - 75110</td>\n",
              "      <td>48.880900</td>\n",
              "      <td>2.365107</td>\n",
              "      <td>7</td>\n",
              "      <td>656103</td>\n",
              "      <td>2280337</td>\n",
              "      <td>0</td>\n",
              "      <td>7B</td>\n",
              "      <td>PRE-SAINT-GERVAIS</td>\n",
              "      <td>LOUIS BLANC</td>\n",
              "    </tr>\n",
              "    <tr>\n",
              "      <th>845</th>\n",
              "      <td>2580</td>\n",
              "      <td>Louis Blanc</td>\n",
              "      <td>234 rue du Faubourg Saint-Martin - 75110</td>\n",
              "      <td>48.880900</td>\n",
              "      <td>2.365107</td>\n",
              "      <td>1</td>\n",
              "      <td>656104</td>\n",
              "      <td>2280337</td>\n",
              "      <td>1</td>\n",
              "      <td>7B</td>\n",
              "      <td>PRE-SAINT-GERVAIS</td>\n",
              "      <td>LOUIS BLANC</td>\n",
              "    </tr>\n",
              "    <tr>\n",
              "      <th>846</th>\n",
              "      <td>2484</td>\n",
              "      <td>Jaurès</td>\n",
              "      <td>Face au 2 place de Stalingrad - 75119</td>\n",
              "      <td>48.882769</td>\n",
              "      <td>2.369946</td>\n",
              "      <td>2</td>\n",
              "      <td>656104</td>\n",
              "      <td>2280337</td>\n",
              "      <td>1</td>\n",
              "      <td>7B</td>\n",
              "      <td>PRE-SAINT-GERVAIS</td>\n",
              "      <td>LOUIS BLANC</td>\n",
              "    </tr>\n",
              "    <tr>\n",
              "      <th>847</th>\n",
              "      <td>2116</td>\n",
              "      <td>Bolivar</td>\n",
              "      <td>Simon Bolivar 125 avenue - 75119</td>\n",
              "      <td>48.880790</td>\n",
              "      <td>2.374155</td>\n",
              "      <td>3</td>\n",
              "      <td>656104</td>\n",
              "      <td>2280337</td>\n",
              "      <td>1</td>\n",
              "      <td>7B</td>\n",
              "      <td>PRE-SAINT-GERVAIS</td>\n",
              "      <td>LOUIS BLANC</td>\n",
              "    </tr>\n",
              "  </tbody>\n",
              "</table>\n",
              "</div>\n",
              "      <button class=\"colab-df-convert\" onclick=\"convertToInteractive('df-d84c2094-f2d4-4b2f-a422-93be301616c3')\"\n",
              "              title=\"Convert this dataframe to an interactive table.\"\n",
              "              style=\"display:none;\">\n",
              "        \n",
              "  <svg xmlns=\"http://www.w3.org/2000/svg\" height=\"24px\"viewBox=\"0 0 24 24\"\n",
              "       width=\"24px\">\n",
              "    <path d=\"M0 0h24v24H0V0z\" fill=\"none\"/>\n",
              "    <path d=\"M18.56 5.44l.94 2.06.94-2.06 2.06-.94-2.06-.94-.94-2.06-.94 2.06-2.06.94zm-11 1L8.5 8.5l.94-2.06 2.06-.94-2.06-.94L8.5 2.5l-.94 2.06-2.06.94zm10 10l.94 2.06.94-2.06 2.06-.94-2.06-.94-.94-2.06-.94 2.06-2.06.94z\"/><path d=\"M17.41 7.96l-1.37-1.37c-.4-.4-.92-.59-1.43-.59-.52 0-1.04.2-1.43.59L10.3 9.45l-7.72 7.72c-.78.78-.78 2.05 0 2.83L4 21.41c.39.39.9.59 1.41.59.51 0 1.02-.2 1.41-.59l7.78-7.78 2.81-2.81c.8-.78.8-2.07 0-2.86zM5.41 20L4 18.59l7.72-7.72 1.47 1.35L5.41 20z\"/>\n",
              "  </svg>\n",
              "      </button>\n",
              "      \n",
              "  <style>\n",
              "    .colab-df-container {\n",
              "      display:flex;\n",
              "      flex-wrap:wrap;\n",
              "      gap: 12px;\n",
              "    }\n",
              "\n",
              "    .colab-df-convert {\n",
              "      background-color: #E8F0FE;\n",
              "      border: none;\n",
              "      border-radius: 50%;\n",
              "      cursor: pointer;\n",
              "      display: none;\n",
              "      fill: #1967D2;\n",
              "      height: 32px;\n",
              "      padding: 0 0 0 0;\n",
              "      width: 32px;\n",
              "    }\n",
              "\n",
              "    .colab-df-convert:hover {\n",
              "      background-color: #E2EBFA;\n",
              "      box-shadow: 0px 1px 2px rgba(60, 64, 67, 0.3), 0px 1px 3px 1px rgba(60, 64, 67, 0.15);\n",
              "      fill: #174EA6;\n",
              "    }\n",
              "\n",
              "    [theme=dark] .colab-df-convert {\n",
              "      background-color: #3B4455;\n",
              "      fill: #D2E3FC;\n",
              "    }\n",
              "\n",
              "    [theme=dark] .colab-df-convert:hover {\n",
              "      background-color: #434B5C;\n",
              "      box-shadow: 0px 1px 3px 1px rgba(0, 0, 0, 0.15);\n",
              "      filter: drop-shadow(0px 1px 2px rgba(0, 0, 0, 0.3));\n",
              "      fill: #FFFFFF;\n",
              "    }\n",
              "  </style>\n",
              "\n",
              "      <script>\n",
              "        const buttonEl =\n",
              "          document.querySelector('#df-d84c2094-f2d4-4b2f-a422-93be301616c3 button.colab-df-convert');\n",
              "        buttonEl.style.display =\n",
              "          google.colab.kernel.accessAllowed ? 'block' : 'none';\n",
              "\n",
              "        async function convertToInteractive(key) {\n",
              "          const element = document.querySelector('#df-d84c2094-f2d4-4b2f-a422-93be301616c3');\n",
              "          const dataTable =\n",
              "            await google.colab.kernel.invokeFunction('convertToInteractive',\n",
              "                                                     [key], {});\n",
              "          if (!dataTable) return;\n",
              "\n",
              "          const docLinkHtml = 'Like what you see? Visit the ' +\n",
              "            '<a target=\"_blank\" href=https://colab.research.google.com/notebooks/data_table.ipynb>data table notebook</a>'\n",
              "            + ' to learn more about interactive tables.';\n",
              "          element.innerHTML = '';\n",
              "          dataTable['output_type'] = 'display_data';\n",
              "          await google.colab.output.renderOutput(dataTable, element);\n",
              "          const docLink = document.createElement('div');\n",
              "          docLink.innerHTML = docLinkHtml;\n",
              "          element.appendChild(docLink);\n",
              "        }\n",
              "      </script>\n",
              "    </div>\n",
              "  </div>\n",
              "  "
            ]
          },
          "metadata": {},
          "execution_count": 4
        }
      ]
    },
    {
      "cell_type": "code",
      "source": [
        "# On garde les colonnes qui nous interessent\n",
        "df = df_raw.sort_values(by=['service_id', 'direction_id', 'route_id', 'stop_sequence'])[['station_id', 'station_name', 'stop_sequence', 'route_id', 'direction_id', 'service_short_name', 'long_name_first']]"
      ],
      "metadata": {
        "id": "SDvOfb1VldID"
      },
      "execution_count": 5,
      "outputs": []
    },
    {
      "cell_type": "code",
      "source": [
        "# Construction d'un dictionnaire où les clés sont les noms des lignes et les valeurs les dataframes corespondants\n",
        "line_list = ['1', '2', '3', '3B', '4', '5', '6', '7', '7B', '8', '9', '10', '11', '12', '13', '14']\n",
        "df_by_line = {}\n",
        "\n",
        "for line in line_list:\n",
        "    df_by_line[line] = df[df.service_short_name == line]\n",
        "    df_by_line[line].drop(['service_short_name'], axis=1)"
      ],
      "metadata": {
        "id": "TbyxMoMz7P2N"
      },
      "execution_count": 6,
      "outputs": []
    },
    {
      "cell_type": "code",
      "source": [
        "# Retourne le nombre de station sur la ligne\n",
        "def nb_stations(dataframe):\n",
        "    return len(dataframe['station_id'].unique())"
      ],
      "metadata": {
        "id": "EizeeQc2mmD_"
      },
      "execution_count": 7,
      "outputs": []
    },
    {
      "cell_type": "code",
      "source": [
        "# Retourne vrai si la ligne n'a pas de bifurcation\n",
        "def is_station_straight(dataframe):\n",
        "    return len(dataframe) == len(dataframe['route_id'].unique()) * len(dataframe['station_id'].unique())"
      ],
      "metadata": {
        "id": "Ggc73wBUKYH9"
      },
      "execution_count": 8,
      "outputs": []
    },
    {
      "cell_type": "code",
      "source": [
        "for line in line_list:\n",
        "    print(line, is_station_straight(df_by_line[line]))"
      ],
      "metadata": {
        "colab": {
          "base_uri": "https://localhost:8080/"
        },
        "id": "hRt5JZKnUIA6",
        "outputId": "3ad1cd7a-717a-487e-dd6a-39edcec9c69a"
      },
      "execution_count": 9,
      "outputs": [
        {
          "output_type": "stream",
          "name": "stdout",
          "text": [
            "1 True\n",
            "2 True\n",
            "3 True\n",
            "3B True\n",
            "4 True\n",
            "5 True\n",
            "6 True\n",
            "7 False\n",
            "7B False\n",
            "8 True\n",
            "9 True\n",
            "10 False\n",
            "11 True\n",
            "12 True\n",
            "13 False\n",
            "14 True\n"
          ]
        }
      ]
    },
    {
      "cell_type": "code",
      "source": [
        "def get_stations(dataframe):\n",
        "\n",
        "    # Cas où la ligne n'a pas de bifurcation\n",
        "    if is_station_straight(dataframe):\n",
        "        df_line = dataframe.drop_duplicates(subset='station_id')\n",
        "        line = []\n",
        "        for station in df_line.iterrows():\n",
        "            line.append((station[1]['station_name'], station[1]['direction_id']))\n",
        "        return line\n",
        "    \n",
        "    # Cas où la ligne a une bifurcation\n",
        "    else:\n",
        "        df_line = dataframe.drop_duplicates(subset='station_id')\n",
        "        nb_routes = len(dataframe.drop_duplicates(subset='route_id'))\n",
        "        print(df_line.iloc[0]['direction_id'])\n",
        "        # Cas où la ligne a une bifurcation interne (2 terminus)\n",
        "        if nb_routes == 2:\n",
        "            \n",
        "            first_list = []\n",
        "            bottom_bifur = []\n",
        "            top_bifur = []\n",
        "            last_list = []\n",
        "            \n",
        "            first_done = False\n",
        "            bottom_done = False\n",
        "            \n",
        "            for station in df_line.iterrows():\n",
        "                if len(dataframe[dataframe.station_id == station[1]['station_id']]) == 2:\n",
        "                    if first_done:\n",
        "                        bottom_done = True\n",
        "                        last_list.append((len(dataframe[dataframe.station_id == station[1]['station_id']]), station[1]['station_name'], station[1]['stop_sequence'], station[1]['route_id']))\n",
        "                    else :\n",
        "                        first_list.append((len(dataframe[dataframe.station_id == station[1]['station_id']]), station[1]['station_name'], station[1]['stop_sequence'], station[1]['route_id']))\n",
        "                \n",
        "                else:\n",
        "                    first_done = True\n",
        "                    if bottom_done:\n",
        "                        top_bifur.append((len(dataframe[dataframe.station_id == station[1]['station_id']]), station[1]['station_name'], station[1]['stop_sequence'], station[1]['route_id']))\n",
        "                    else:\n",
        "                        bottom_bifur.append((len(dataframe[dataframe.station_id == station[1]['station_id']]), station[1]['station_name'], station[1]['stop_sequence'], station[1]['route_id']))\n",
        "\n",
        "            return (first_list, bottom_bifur, list(reversed(top_bifur)), last_list)\n",
        "           \n",
        "    \n",
        "        # Cas où la ligne a une bifurcation qui ne se rejoint pas (3 terminus)\n",
        "        if (nb_routes == 4):\n",
        "            ## TODO\n",
        "            return None\n",
        "\n"
      ],
      "metadata": {
        "id": "h3oJn45kYmS2"
      },
      "execution_count": 10,
      "outputs": []
    },
    {
      "cell_type": "code",
      "source": [
        "get_stations(df_by_line['6'])"
      ],
      "metadata": {
        "colab": {
          "base_uri": "https://localhost:8080/"
        },
        "id": "n0yweYTtZ5hC",
        "outputId": "8f6433cd-5939-4a29-dd79-34ad155700ee"
      },
      "execution_count": 11,
      "outputs": [
        {
          "output_type": "execute_result",
          "data": {
            "text/plain": [
              "[('Nation', 0),\n",
              " ('Picpus', 0),\n",
              " ('Bel-Air', 0),\n",
              " ('Daumesnil Félix Eboué', 0),\n",
              " ('Dugommier', 0),\n",
              " ('Bercy', 0),\n",
              " ('Quai de la Gare', 0),\n",
              " ('Chevaleret', 0),\n",
              " ('Nationale', 0),\n",
              " (\"Place d'Italie\", 0),\n",
              " ('Corvisart', 0),\n",
              " ('Glacière', 0),\n",
              " ('Saint-Jacques', 0),\n",
              " ('Denfert-Rochereau', 0),\n",
              " ('Raspail', 0),\n",
              " ('Edgar-Quinet', 0),\n",
              " ('Montparnasse-Bienvenue', 0),\n",
              " ('Pasteur', 0),\n",
              " ('Sèvres-Lecourbe', 0),\n",
              " ('Cambronne', 0),\n",
              " ('La Motte-Picquet-Grenelle', 0),\n",
              " ('Dupleix', 0),\n",
              " ('Bir-Hakeim Grenelle', 0),\n",
              " ('Passy', 0),\n",
              " ('Trocadéro', 0),\n",
              " ('Boissière', 0),\n",
              " ('Kléber', 0),\n",
              " ('Charles de Gaulle-Etoile', 0)]"
            ]
          },
          "metadata": {},
          "execution_count": 11
        }
      ]
    },
    {
      "cell_type": "code",
      "source": [
        "get_stations(df_by_line['7B'])"
      ],
      "metadata": {
        "colab": {
          "base_uri": "https://localhost:8080/"
        },
        "id": "yS_dpXNRyPpb",
        "outputId": "6e7a817c-87ad-435e-b4a1-b6655fb780df"
      },
      "execution_count": 12,
      "outputs": [
        {
          "output_type": "stream",
          "name": "stdout",
          "text": [
            "0\n"
          ]
        },
        {
          "output_type": "execute_result",
          "data": {
            "text/plain": [
              "([(2, 'Pré-Saint-Gervais', 1, 656103)],\n",
              " [(1, 'Danube', 2, 656103)],\n",
              " [(1, 'Place des Fêtes', 6, 656104)],\n",
              " [(2, 'Botzaris', 3, 656103),\n",
              "  (2, 'Buttes-Chaumont', 4, 656103),\n",
              "  (2, 'Bolivar', 5, 656103),\n",
              "  (2, 'Jaurès', 6, 656103),\n",
              "  (2, 'Louis Blanc', 7, 656103)])"
            ]
          },
          "metadata": {},
          "execution_count": 12
        }
      ]
    }
  ]
}