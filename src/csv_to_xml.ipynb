{
  "cells": [
    {
      "cell_type": "code",
      "execution_count": 1,
      "metadata": {
        "id": "qOGmAtiuuVSF"
      },
      "outputs": [],
      "source": [
        "import pandas as pd\n",
        "import xml.etree.ElementTree as et\n",
        "import xml.dom.minidom as md"
      ]
    },
    {
      "cell_type": "code",
      "execution_count": 2,
      "metadata": {
        "id": "LiUS-amotqCf"
      },
      "outputs": [],
      "source": [
        "# Lecture du fichier CSV\n",
        "df = pd.read_csv('base_ratp.csv', delimiter=';') "
      ]
    },
    {
      "cell_type": "code",
      "execution_count": 3,
      "metadata": {
        "id": "SDvOfb1VldID"
      },
      "outputs": [],
      "source": [
        "# Tri du dataset\n",
        "df = df.sort_values(by=['service_id', 'direction_id', 'route_id', 'stop_sequence'])"
      ]
    },
    {
      "cell_type": "code",
      "execution_count": 4,
      "metadata": {
        "colab": {
          "base_uri": "https://localhost:8080/"
        },
        "id": "tGluBT2fkohe",
        "outputId": "4f97e7aa-eb00-42a2-8d5b-fb2dbc5a2e8b"
      },
      "outputs": [
        {
          "name": "stdout",
          "output_type": "stream",
          "text": [
            "['2', '1', '3', '3B', '4', '5', '6', '7', '7B', '8', '9', '10', '11', '12', '13', '14']\n"
          ]
        }
      ],
      "source": [
        "# Construction de la liste des lignes de métro\n",
        "line_list = list(df['service_short_name'].unique())\n",
        "print(line_list)"
      ]
    },
    {
      "cell_type": "code",
      "execution_count": 5,
      "metadata": {
        "id": "TbyxMoMz7P2N"
      },
      "outputs": [],
      "source": [
        "# Construction d'un dictionnaire où les clés sont les noms des lignes et les valeurs les dataframes corespondants\n",
        "df_by_line = {}\n",
        "\n",
        "for line in line_list:\n",
        "    df_by_line[line] = df[df.service_short_name == line]"
      ]
    },
    {
      "cell_type": "code",
      "execution_count": 6,
      "metadata": {
        "id": "zKvZPlyKRkMy"
      },
      "outputs": [],
      "source": [
        "# Construit le XML correspondant à une simple liste de station\n",
        "def stations_to_XML(stations, element):\n",
        "    for station in stations:\n",
        "            info, changes = station[0], station[1]\n",
        "            s = et.SubElement(element, \"station\", id=str(info['station_id']), lat=str(info['station_lat']), lon=str(info['station_lon']))\n",
        "            n = et.SubElement(s, 'name')\n",
        "            n.text = info['station_name']\n",
        "            d = et.SubElement(s, 'desc')\n",
        "            d.text = info['station_desc']\n",
        "\n",
        "            if changes:\n",
        "                c = et.SubElement(s, 'changes')\n",
        "                for change in changes:\n",
        "                    cl = et.SubElement(c, 'changeline')\n",
        "                    cl.text = change\n"
      ]
    },
    {
      "cell_type": "code",
      "execution_count": 7,
      "metadata": {
        "id": "h3oJn45kYmS2"
      },
      "outputs": [],
      "source": [
        "# Contruit le XML correspondant à une ligne à partir du dataframe de la ligne\n",
        "def line_to_XML(dataframe):\n",
        "    line_name = dataframe.iloc[0].service_short_name\n",
        "    df_line = dataframe.drop_duplicates(subset='station_id')\n",
        "\n",
        "    l = et.SubElement(root, \"line\", name=line_name)\n",
        "\n",
        "    # Cas où la ligne n'a pas de bifurcation\n",
        "    if len(dataframe) == len(dataframe['route_id'].unique()) * len(dataframe['station_id'].unique()):\n",
        "        \n",
        "        # Construction de la liste des stations\n",
        "        line = []\n",
        "        for station in df_line.iterrows():\n",
        "            change = list(set(df[df.station_id == station[1]['station_id']].service_short_name))\n",
        "            change.remove(line_name)\n",
        "            line.append((station[1], change))\n",
        "        \n",
        "        # Contruction du XML de la ligne\n",
        "        path = et.SubElement(l, \"mpath\")\n",
        "        stations_to_XML(line, path)\n",
        "        return          \n",
        "    \n",
        "    # Cas où la ligne a une bifurcation\n",
        "    else:\n",
        "        nb_routes = len(dataframe.drop_duplicates(subset='route_id'))\n",
        "        \n",
        "        # Cas où la ligne a une bifurcation interne (2 terminus)\n",
        "        if nb_routes == 2:\n",
        "            \n",
        "            # Construction des listes des stations\n",
        "            first_list = []\n",
        "            bottom_bifur = []\n",
        "            top_bifur = []\n",
        "            last_list = []\n",
        "            \n",
        "            first_done = False\n",
        "            bottom_done = False\n",
        "            \n",
        "            for station in df_line.iterrows():\n",
        "                change = list(set(df[df.station_id == station[1]['station_id']].service_short_name))\n",
        "                change.remove(line_name)\n",
        "\n",
        "                if len(dataframe[dataframe.station_id == station[1]['station_id']]) == 2:\n",
        "                    if first_done:\n",
        "                        bottom_done = True\n",
        "                        last_list.append((station[1], change))\n",
        "                    else :\n",
        "                        first_list.append((station[1], change))\n",
        "                \n",
        "                else:\n",
        "                    first_done = True\n",
        "                    if bottom_done:\n",
        "                        top_bifur.append((station[1], change))\n",
        "                    else:\n",
        "                        bottom_bifur.append((station[1], change))\n",
        "            \n",
        "            # Contruction du XML de la ligne\n",
        "            path = et.SubElement(l, \"lpath\")\n",
        "            stations_to_XML(first_list, path)\n",
        "            bifur = et.SubElement(l, \"bifur\")\n",
        "            path = et.SubElement(bifur, \"subpath\")\n",
        "            stations_to_XML(bottom_bifur, path)\n",
        "            path = et.SubElement(bifur, \"subpath\")\n",
        "            stations_to_XML(list(reversed(top_bifur)), path)\n",
        "            path = et.SubElement(l, \"rpath\")\n",
        "            stations_to_XML(last_list, path)\n",
        "            return\n",
        "           \n",
        "    \n",
        "        # Cas où la ligne a une bifurcation qui ne se rejoint pas (3 terminus)\n",
        "        if (nb_routes == 4):\n",
        "            \n",
        "            # Construction des listes des stations\n",
        "            main_route = dataframe.iloc[0]['route_id']\n",
        "\n",
        "            main_list = []\n",
        "            bottom_bifur = []\n",
        "            top_bifur = []\n",
        "\n",
        "            for station in df_line.iterrows():\n",
        "                change = list(set(df[df.station_id == station[1]['station_id']].service_short_name))\n",
        "                change.remove(line_name)\n",
        "\n",
        "                if len(dataframe[dataframe.station_id == station[1]['station_id']]) == 4:\n",
        "                    main_list.append((station[1], change))\n",
        "                else:\n",
        "                    if station[1]['route_id'] == main_route:\n",
        "                        bottom_bifur.append((station[1], change))\n",
        "                    else:\n",
        "                        top_bifur.append((station[1], change))\n",
        "\n",
        "            # Contruction du XML de la ligne\n",
        "            path = et.SubElement(l, \"fpath\")\n",
        "            stations_to_XML(main_list, path)\n",
        "            bifur = et.SubElement(l, \"bifur\")\n",
        "            path = et.SubElement(bifur, \"subpath\")\n",
        "            stations_to_XML(bottom_bifur, path)\n",
        "            path = et.SubElement(bifur, \"subpath\")\n",
        "            stations_to_XML(top_bifur, path)\n",
        "            return\n"
      ]
    },
    {
      "cell_type": "code",
      "execution_count": 8,
      "metadata": {
        "id": "JZCAL_pmFCs6"
      },
      "outputs": [],
      "source": [
        "# Construction du XML et écriture du fichier\n",
        "root = et.Element(\"root\")\n",
        "for line in line_list:\n",
        "    line_to_XML(df_by_line[line])\n",
        "\n",
        "with open(\"base_ratp.xml\", \"w\") as f:\n",
        "    f.write(str(md.parseString(et.tostring(root)).toprettyxml(indent=\"   \")))"
      ]
    }
  ],
  "metadata": {
    "colab": {
      "collapsed_sections": [],
      "machine_shape": "hm",
      "name": "XML_Projet_CSVtoXML.ipynb",
      "provenance": []
    },
    "kernelspec": {
      "display_name": "Python 3",
      "name": "python3"
    },
    "language_info": {
      "name": "python"
    }
  },
  "nbformat": 4,
  "nbformat_minor": 0
}
