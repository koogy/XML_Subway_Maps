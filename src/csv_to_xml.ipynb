{
  "cells": [
    {
      "cell_type": "code",
      "execution_count": 81,
      "metadata": {
        "id": "qOGmAtiuuVSF"
      },
      "outputs": [],
      "source": [
        "import pandas as pd\n",
        "import xml.etree.ElementTree as et\n",
        "import xml.dom.minidom as md"
      ]
    },
    {
      "cell_type": "code",
      "execution_count": 82,
      "metadata": {
        "id": "LiUS-amotqCf"
      },
      "outputs": [],
      "source": [
        "# Lecture du fichier CSV\n",
        "df = pd.read_csv('base_ratp.csv', delimiter=';') "
      ]
    },
    {
      "cell_type": "code",
      "execution_count": 83,
      "metadata": {
        "id": "SDvOfb1VldID"
      },
      "outputs": [],
      "source": [
        "# Tri du dataset\n",
        "df = df.sort_values(by=['service_id', 'direction_id', 'route_id', 'stop_sequence'])"
      ]
    },
    {
      "cell_type": "code",
      "execution_count": 84,
      "metadata": {
        "colab": {
          "base_uri": "https://localhost:8080/"
        },
        "id": "tGluBT2fkohe",
        "outputId": "24b37830-0cb2-447c-a872-5a4c430301fb"
      },
      "outputs": [
        {
          "name": "stdout",
          "output_type": "stream",
          "text": [
            "['2', '1', '3', '3B', '4', '5', '6', '7', '7B', '8', '9', '10', '11', '12', '13', '14']\n"
          ]
        }
      ],
      "source": [
        "# Construction de la liste des lignes de métro\n",
        "line_list = list(df['service_short_name'].unique())\n",
        "print(line_list)"
      ]
    },
    {
      "cell_type": "code",
      "execution_count": 85,
      "metadata": {
        "id": "TbyxMoMz7P2N"
      },
      "outputs": [],
      "source": [
        "# Construction d'un dictionnaire où les clés sont les noms des lignes et les valeurs les dataframes corespondants\n",
        "df_by_line = {}\n",
        "\n",
        "for line in line_list:\n",
        "    df_by_line[line] = df[df.service_short_name == line]"
      ]
    },
    {
      "cell_type": "code",
      "execution_count": 86,
      "metadata": {
        "id": "zKvZPlyKRkMy"
      },
      "outputs": [],
      "source": [
        "# Construit le XML correspondant à la liste d'une station\n",
        "def stations_ref(stations, element):\n",
        "    for station in stations:\n",
        "            id, changes = station[0], station[1]\n",
        "            s = et.SubElement(element, \"station\")\n",
        "            sid = et.SubElement(s, \"id\")\n",
        "            sid.text = str(id)\n",
        "\n",
        "            if changes:\n",
        "                c = et.SubElement(s, 'changes')\n",
        "                for change in changes:\n",
        "                    cl = et.SubElement(c, 'changeline')\n",
        "                    cl.text = change\n"
      ]
    },
    {
      "cell_type": "code",
      "execution_count": 87,
      "metadata": {
        "id": "fMKbj8FgKr6D"
      },
      "outputs": [],
      "source": [
        "# Convertit la longitude en coordonnée X\n",
        "def longitude_to_x(longitude):\n",
        "    return str(int(100 + ((900 - 100) / (2.464319 - 2.228314)) * (longitude - 2.228314)))\n",
        "\n",
        "# Convertit la latitude en coordonnée Y\n",
        "def latitude_to_y(latitude):\n",
        "    y = 100 + ((900 - 100) / (48.946111 - 48.768769)) * (latitude - 48.768769)\n",
        "    return str(int(y - ((y - 500) * 2)))"
      ]
    },
    {
      "cell_type": "code",
      "execution_count": 88,
      "metadata": {
        "id": "TgBOx9V01DYg"
      },
      "outputs": [],
      "source": [
        "# Construit le XML correspondant à une simple liste de station\n",
        "def station_data(sta, element):\n",
        "    s = et.SubElement(element, \"station\", id=str(sta['station_id']), x=longitude_to_x(sta['station_lon']), y=latitude_to_y(sta['station_lat']))\n",
        "    n = et.SubElement(s, 'name')\n",
        "    n.text = sta['station_name']\n",
        "    d = et.SubElement(s, 'desc')\n",
        "    d.text = sta['station_desc']"
      ]
    },
    {
      "cell_type": "code",
      "execution_count": 89,
      "metadata": {
        "id": "h3oJn45kYmS2"
      },
      "outputs": [],
      "source": [
        "# Contruit le XML correspondant à une ligne à partir du dataframe de la ligne\n",
        "def line_to_XML(dataframe):\n",
        "    line_name = dataframe.iloc[0].service_short_name\n",
        "    df_line = dataframe.drop_duplicates(subset='station_id')\n",
        "\n",
        "    l = et.SubElement(lines, \"line\", name=line_name)\n",
        "\n",
        "    # Cas où la ligne n'a pas de bifurcation\n",
        "    if len(dataframe) == len(dataframe['route_id'].unique()) * len(dataframe['station_id'].unique()):\n",
        "        \n",
        "        # Construction de la liste des stations\n",
        "        line = []\n",
        "        for station in df_line.iterrows():\n",
        "            change = list(set(df[df.station_id == station[1]['station_id']].service_short_name))\n",
        "            change.remove(line_name)\n",
        "            line.append((station[1]['station_id'], change))\n",
        "        \n",
        "        # Contruction du XML de la ligne\n",
        "        path = et.SubElement(l, \"mpath\")\n",
        "        stations_ref(line, path)\n",
        "        return          \n",
        "    \n",
        "    # Cas où la ligne a une bifurcation\n",
        "    else:\n",
        "        nb_routes = len(dataframe.drop_duplicates(subset='route_id'))\n",
        "        \n",
        "        # Cas où la ligne a une bifurcation interne (2 terminus)\n",
        "        if nb_routes == 2:\n",
        "            \n",
        "            # Construction des listes des stations\n",
        "            first_list = []\n",
        "            bottom_bifur = []\n",
        "            top_bifur = []\n",
        "            last_list = []\n",
        "            \n",
        "            first_done = False\n",
        "            bottom_done = False\n",
        "            \n",
        "            for station in df_line.iterrows():\n",
        "                change = list(set(df[df.station_id == station[1]['station_id']].service_short_name))\n",
        "                change.remove(line_name)\n",
        "\n",
        "                if len(dataframe[dataframe.station_id == station[1]['station_id']]) == 2:\n",
        "                    if first_done:\n",
        "                        bottom_done = True\n",
        "                        last_list.append((station[1]['station_id'], change))\n",
        "                    else :\n",
        "                        first_list.append((station[1]['station_id'], change))\n",
        "                \n",
        "                else:\n",
        "                    first_done = True\n",
        "                    if bottom_done:\n",
        "                        top_bifur.append((station[1]['station_id'], change))\n",
        "                    else:\n",
        "                        bottom_bifur.append((station[1]['station_id'], change))\n",
        "            \n",
        "            # Contruction du XML de la ligne\n",
        "            path = et.SubElement(l, \"lpath\")\n",
        "            stations_ref(first_list, path)\n",
        "            bifur = et.SubElement(l, \"bifur\")\n",
        "            path = et.SubElement(bifur, \"subpath\")\n",
        "            stations_ref(bottom_bifur, path)\n",
        "            path = et.SubElement(bifur, \"subpath\")\n",
        "            stations_ref(list(reversed(top_bifur)), path)\n",
        "            path = et.SubElement(l, \"rpath\")\n",
        "            stations_ref(last_list, path)\n",
        "            return\n",
        "           \n",
        "    \n",
        "        # Cas où la ligne a une bifurcation qui ne se rejoint pas (3 terminus)\n",
        "        if (nb_routes == 4):\n",
        "            \n",
        "            # Construction des listes des stations\n",
        "            main_route = dataframe.iloc[0]['route_id']\n",
        "\n",
        "            main_list = []\n",
        "            bottom_bifur = []\n",
        "            top_bifur = []\n",
        "\n",
        "            for station in df_line.iterrows():\n",
        "                change = list(set(df[df.station_id == station[1]['station_id']].service_short_name))\n",
        "                change.remove(line_name)\n",
        "\n",
        "                if len(dataframe[dataframe.station_id == station[1]['station_id']]) == 4:\n",
        "                    main_list.append((station[1]['station_id'], change))\n",
        "                else:\n",
        "                    if station[1]['route_id'] == main_route:\n",
        "                        bottom_bifur.append((station[1]['station_id'], change))\n",
        "                    else:\n",
        "                        top_bifur.append((station[1]['station_id'], change))\n",
        "\n",
        "            # Contruction du XML de la ligne\n",
        "            path = et.SubElement(l, \"fpath\")\n",
        "            stations_ref(main_list, path)\n",
        "            bifur = et.SubElement(l, \"bifur\")\n",
        "            path = et.SubElement(bifur, \"subpath\")\n",
        "            stations_ref(bottom_bifur, path)\n",
        "            path = et.SubElement(bifur, \"subpath\")\n",
        "            stations_ref(top_bifur, path)\n",
        "            return\n"
      ]
    },
    {
      "cell_type": "code",
      "execution_count": 90,
      "metadata": {
        "id": "JZCAL_pmFCs6"
      },
      "outputs": [],
      "source": [
        "# Construction du XML et écriture du fichier\n",
        "root = et.Element(\"root\")\n",
        "data = et.SubElement(root, \"data\")\n",
        "\n",
        "df_data = df.drop_duplicates(subset='station_id').sort_values(by=['station_id'])\n",
        "for s in df_data.iterrows():\n",
        "    station_data(s[1], data)\n",
        "\n",
        "lines = et.SubElement(root, \"lines\")\n",
        "\n",
        "for line in line_list:\n",
        "    line_to_XML(df_by_line[line])\n",
        "\n",
        "with open(\"base_ratp.xml\", \"w\") as f:\n",
        "    f.write(str(md.parseString(et.tostring(root)).toprettyxml(indent=\"   \")))"
      ]
    }
  ],
  "metadata": {
    "colab": {
      "collapsed_sections": [],
      "machine_shape": "hm",
      "name": "XML_Projet_CSVtoXML.ipynb",
      "provenance": []
    },
    "interpreter": {
      "hash": "aee8b7b246df8f9039afb4144a1f6fd8d2ca17a180786b69acc140d282b71a49"
    },
    "kernelspec": {
      "display_name": "Python 3.9.12 64-bit",
      "language": "python",
      "name": "python3"
    },
    "language_info": {
      "codemirror_mode": {
        "name": "ipython",
        "version": 3
      },
      "file_extension": ".py",
      "mimetype": "text/x-python",
      "name": "python",
      "nbconvert_exporter": "python",
      "pygments_lexer": "ipython3",
      "version": "3.9.12"
    }
  },
  "nbformat": 4,
  "nbformat_minor": 0
}
